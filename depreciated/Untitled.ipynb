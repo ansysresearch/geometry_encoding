{
 "cells": [
  {
   "cell_type": "code",
   "execution_count": 10,
   "metadata": {},
   "outputs": [],
   "source": [
    "%matplotlib qt  \n",
    "\n",
    "from matplotlib import interactive\n",
    "interactive(False)\n",
    "\n",
    "import numpy as np\n",
    "import matplotlib.pyplot as plt\n",
    "\n",
    "from data.geoms import *\n",
    "\n",
    "from scipy.ndimage import distance_transform_edt\n",
    "from scipy.interpolate import griddata, RectBivariateSpline"
   ]
  },
  {
   "cell_type": "code",
   "execution_count": 5,
   "metadata": {},
   "outputs": [
    {
     "ename": "NameError",
     "evalue": "name 'x128' is not defined",
     "output_type": "error",
     "traceback": [
      "\u001b[1;31m---------------------------------------------------------------------------\u001b[0m",
      "\u001b[1;31mNameError\u001b[0m                                 Traceback (most recent call last)",
      "\u001b[1;32m<ipython-input-5-6aa1620531c3>\u001b[0m in \u001b[0;36m<module>\u001b[1;34m\u001b[0m\n\u001b[1;32m----> 1\u001b[1;33m \u001b[0mf128\u001b[0m \u001b[1;33m=\u001b[0m \u001b[0mRectBivariateSpline\u001b[0m\u001b[1;33m(\u001b[0m\u001b[0mx128\u001b[0m\u001b[1;33m,\u001b[0m \u001b[0my128\u001b[0m\u001b[1;33m,\u001b[0m \u001b[0msdf_scipy128\u001b[0m\u001b[1;33m)\u001b[0m\u001b[1;33m\u001b[0m\u001b[1;33m\u001b[0m\u001b[0m\n\u001b[0m\u001b[0;32m      2\u001b[0m \u001b[0mscipy_256_from_128\u001b[0m \u001b[1;33m=\u001b[0m \u001b[0mf128\u001b[0m\u001b[1;33m(\u001b[0m\u001b[0mx256\u001b[0m\u001b[1;33m,\u001b[0m \u001b[0my256\u001b[0m\u001b[1;33m)\u001b[0m\u001b[1;33m\u001b[0m\u001b[1;33m\u001b[0m\u001b[0m\n\u001b[0;32m      3\u001b[0m \u001b[0mplot_sdf\u001b[0m\u001b[1;33m(\u001b[0m\u001b[0mimg256\u001b[0m\u001b[1;33m,\u001b[0m \u001b[0msdf_scipy256\u001b[0m\u001b[1;33m,\u001b[0m \u001b[0mcolorbar\u001b[0m\u001b[1;33m=\u001b[0m\u001b[1;32mTrue\u001b[0m\u001b[1;33m)\u001b[0m\u001b[1;33m\u001b[0m\u001b[1;33m\u001b[0m\u001b[0m\n\u001b[0;32m      4\u001b[0m \u001b[0mplot_sdf\u001b[0m\u001b[1;33m(\u001b[0m\u001b[0mimg256\u001b[0m\u001b[1;33m,\u001b[0m \u001b[0mscipy_256_from_128\u001b[0m\u001b[1;33m,\u001b[0m \u001b[0mcolorbar\u001b[0m\u001b[1;33m=\u001b[0m\u001b[1;32mTrue\u001b[0m\u001b[1;33m)\u001b[0m\u001b[1;33m\u001b[0m\u001b[1;33m\u001b[0m\u001b[0m\n\u001b[0;32m      5\u001b[0m \u001b[0mplt\u001b[0m\u001b[1;33m.\u001b[0m\u001b[0mimshow\u001b[0m\u001b[1;33m(\u001b[0m\u001b[0mscipy_256_from_128\u001b[0m \u001b[1;33m-\u001b[0m \u001b[0msdf_scipy256\u001b[0m\u001b[1;33m,\u001b[0m \u001b[0mcmap\u001b[0m\u001b[1;33m=\u001b[0m\u001b[1;34m'hot'\u001b[0m\u001b[1;33m)\u001b[0m\u001b[1;33m\u001b[0m\u001b[1;33m\u001b[0m\u001b[0m\n",
      "\u001b[1;31mNameError\u001b[0m: name 'x128' is not defined"
     ]
    }
   ],
   "source": [
    "f128 = RectBivariateSpline(x128, y128, sdf_scipy128)\n",
    "scipy_256_from_128 = f128(x256, y256)\n",
    "plot_sdf(img256, sdf_scipy256, colorbar=True)\n",
    "plot_sdf(img256, scipy_256_from_128, colorbar=True)\n",
    "plt.imshow(scipy_256_from_128 - sdf_scipy256, cmap='hot')\n",
    "plt.colorbar()"
   ]
  },
  {
   "cell_type": "code",
   "execution_count": null,
   "metadata": {},
   "outputs": [],
   "source": [
    "f12 = RectBivariateSpline(x256, y256, sdf_scipy256)"
   ]
  },
  {
   "cell_type": "code",
   "execution_count": null,
   "metadata": {},
   "outputs": [],
   "source": [
    "def interpolate(x1, y1, s1, x2, y2):\n",
    "    f12 = RectBivariateSpline(x1, y1, s1)\n",
    "    s2_from_1 = f12(x2, y2)\n",
    "    return s2_from_1\n",
    "\n",
    "scipy_128_from_256 = interpolate(x256, y256, sdf_scipy256, x128, y128)\n",
    "plot_sdf(img128, sdf_scipy128, colorbar=True)\n",
    "plot_sdf(img128, scipy_128_from_256, colorbar=True)\n",
    "plt.imshow(scipy_128_from_256 - sdf_scipy128, cmap='hot')\n",
    "plt.colorbar()"
   ]
  },
  {
   "cell_type": "code",
   "execution_count": null,
   "metadata": {},
   "outputs": [],
   "source": [
    "plt.imshow(sdf_scipy64 - sdf_simnet64, cmap='hot')\n",
    "plt.colorbar()"
   ]
  },
  {
   "cell_type": "code",
   "execution_count": null,
   "metadata": {},
   "outputs": [],
   "source": [
    "\n",
    "plt.imshow(sdf_scipy128 - sdf_simnet128, cmap='hot')\n",
    "plt.colorbar()"
   ]
  },
  {
   "cell_type": "code",
   "execution_count": null,
   "metadata": {},
   "outputs": [],
   "source": [
    "fig, ax = plt.subplots(figsize=(20,10))\n",
    "plt.subplot(1,2,1)\n",
    "im = plt.contourf(x256, y256, sdf_simnet256, 150, cmap='hot')\n",
    "plt.colorbar()"
   ]
  },
  {
   "cell_type": "code",
   "execution_count": 139,
   "metadata": {},
   "outputs": [],
   "source": [
    "def format_coord(x, y):\n",
    "    col = int(x + 0.5)\n",
    "    row = int(y + 0.5)\n",
    "    z = X[row, col]\n",
    "    return 'x=%1.4f, y=%1.4f, z=%1.4f' % (x, y, z)"
   ]
  },
  {
   "cell_type": "code",
   "execution_count": 59,
   "metadata": {},
   "outputs": [],
   "source": [
    "fig, ax = plt.subplots(figsize=(20,10))\n",
    "plt.subplot(1,1,1)\n",
    "im = plt.contourf(x256, y256, sdf_simnet256, 150, cmap='hot')\n",
    "plt.colorbar()\n",
    "plt.contour(x256, y256, sdf_simnet256, levels=[-0.0001, 0.0001])\n",
    "plt.show()"
   ]
  },
  {
   "cell_type": "code",
   "execution_count": 60,
   "metadata": {},
   "outputs": [],
   "source": [
    "fig, ax = plt.subplots(figsize=(20,10))\n",
    "\n",
    "plt.subplot(1,2,1)\n",
    "im = plt.imshow(sdf_simnet256, cmap='hot')\n",
    "plt.colorbar()\n",
    "plt.contour(sdf_simnet256, levels=[-0.0001, 0.0001])\n",
    "\n",
    "plt.subplot(1,2,2)\n",
    "plt.imshow(sdf_scipy256, cmap='hot')\n",
    "plt.colorbar()\n",
    "plt.contour(sdf_scipy256, levels=[-0.0001, 0.0001])\n",
    "\n",
    "ax.format_coord = format_coord\n",
    "plt.show()"
   ]
  },
  {
   "cell_type": "code",
   "execution_count": 61,
   "metadata": {},
   "outputs": [],
   "source": [
    "fig, ax = plt.subplots(figsize=(20,10))\n",
    "plt.subplot(1,1,1)\n",
    "im = plt.imshow(sdf_simnet256 - sdf_scipy256, cmap='hot')\n",
    "plt.colorbar()\n",
    "plt.contour(sdf_simnet256, levels=[-0.0001, 0.0001])\n",
    "ax.format_coord = format_coord\n",
    "\n",
    "plt.show()"
   ]
  },
  {
   "cell_type": "code",
   "execution_count": 96,
   "metadata": {},
   "outputs": [],
   "source": []
  },
  {
   "cell_type": "code",
   "execution_count": 183,
   "metadata": {},
   "outputs": [],
   "source": [
    "def plot_kirkar(s, s2):\n",
    "    fig, ax = plt.subplots(figsize=(20,10))\n",
    "    plt.subplot(1,1,1)\n",
    "    im = plt.imshow(s, cmap='hot')\n",
    "    plt.colorbar()\n",
    "    plt.clim(-0.5,1.5)\n",
    "    plt.contour(s2, levels=[-0.0001, 0.0001])\n",
    "    ax.format_coord = format_coord\n",
    "    plt.show()\n",
    "    \n",
    "def get_scipy_sdf(geom, img_res):\n",
    "    x, y = np.linspace(-1, 1, img_res), np.linspace(-1, 1, img_res)\n",
    "    X, Y = np.meshgrid(x, y)\n",
    "    sdf_simnet = geom.eval_sdf(X, Y)\n",
    "    img = sdf_simnet < 0\n",
    "    sdf_scipy  = -distance_transform_edt(img) + distance_transform_edt(1 - img)\n",
    "    sdf_scipy /= (sdf_scipy.shape[0] // 2)\n",
    "    return img, sdf_simnet, sdf_scipy"
   ]
  },
  {
   "cell_type": "code",
   "execution_count": 185,
   "metadata": {},
   "outputs": [],
   "source": [
    "x1 = nGon([[0.2, 0.2], [-0.2, 0.2], [-0.5, -0.5], [0.5, -0.5]])#.scale(1.613213)\n",
    "img1, sdf_simnet1, sdf_scipy1 = get_scipy_sdf(x1, 257)\n",
    "plot_kirkar(sdf_scipy1, sdf_simnet1)"
   ]
  },
  {
   "cell_type": "code",
   "execution_count": 186,
   "metadata": {},
   "outputs": [],
   "source": [
    "x2 = Circle(0.5).translate((0.3,0.2))\n",
    "img2, sdf_simnet2, sdf_scipy2 = get_scipy_sdf(x2, 257)\n",
    "plot_kirkar(sdf_scipy2, sdf_simnet2)"
   ]
  },
  {
   "cell_type": "code",
   "execution_count": 172,
   "metadata": {},
   "outputs": [
    {
     "data": {
      "text/plain": [
       "(257, 257)"
      ]
     },
     "execution_count": 172,
     "metadata": {},
     "output_type": "execute_result"
    }
   ],
   "source": [
    "sdf_simnet2.shape"
   ]
  },
  {
   "cell_type": "code",
   "execution_count": 187,
   "metadata": {},
   "outputs": [],
   "source": [
    "sdf_scipy3, sdf_simnet3 = np.minimum(sdf_scipy1, sdf_scipy2), np.minimum(sdf_simnet1, sdf_simnet2)"
   ]
  },
  {
   "cell_type": "code",
   "execution_count": 188,
   "metadata": {},
   "outputs": [],
   "source": [
    "plot_kirkar(sdf_scipy3, sdf_simnet3)"
   ]
  },
  {
   "cell_type": "code",
   "execution_count": 175,
   "metadata": {},
   "outputs": [],
   "source": [
    "plot_kirkar(sdf_simnet3, sdf_simnet3)"
   ]
  },
  {
   "cell_type": "code",
   "execution_count": 189,
   "metadata": {},
   "outputs": [],
   "source": [
    "x3 = x1.union(x3)\n",
    "img4, sdf_simnet4, sdf_scipy4 = get_scipy_sdf(x3, 257)\n",
    "plot_kirkar(sdf_scipy4, sdf_scipy4)"
   ]
  },
  {
   "cell_type": "code",
   "execution_count": 194,
   "metadata": {},
   "outputs": [],
   "source": [
    "sdf_simnet5 = np.minimum(sdf_simnet1, sdf_simnet2)\n",
    "in_in = np.logical_and(sdf_simnet1<0, sdf_simnet2<0)\n",
    "sdf_simnet5[in_in] = np.minimum(-sdf_simnet1, -sdf_simnet2)[in_in]"
   ]
  },
  {
   "cell_type": "code",
   "execution_count": 195,
   "metadata": {},
   "outputs": [],
   "source": [
    "plot_kirkar(sdf_simnet5, sdf_simnet5)"
   ]
  },
  {
   "cell_type": "code",
   "execution_count": 191,
   "metadata": {},
   "outputs": [],
   "source": [
    "plot_kirkar(-sdf_simnet2, -sdf_simnet2)"
   ]
  },
  {
   "cell_type": "code",
   "execution_count": 196,
   "metadata": {},
   "outputs": [
    {
     "data": {
      "text/plain": [
       "array([[False, False, False, ..., False, False, False],\n",
       "       [False, False, False, ..., False, False, False],\n",
       "       [False, False, False, ..., False, False, False],\n",
       "       ...,\n",
       "       [False, False, False, ..., False, False, False],\n",
       "       [False, False, False, ..., False, False, False],\n",
       "       [False, False, False, ..., False, False, False]])"
      ]
     },
     "execution_count": 196,
     "metadata": {},
     "output_type": "execute_result"
    }
   ],
   "source": [
    "img128"
   ]
  },
  {
   "cell_type": "code",
   "execution_count": null,
   "metadata": {},
   "outputs": [],
   "source": []
  },
  {
   "cell_type": "code",
   "execution_count": null,
   "metadata": {},
   "outputs": [],
   "source": []
  },
  {
   "cell_type": "code",
   "execution_count": null,
   "metadata": {},
   "outputs": [],
   "source": []
  },
  {
   "cell_type": "code",
   "execution_count": null,
   "metadata": {},
   "outputs": [],
   "source": []
  },
  {
   "cell_type": "code",
   "execution_count": 18,
   "metadata": {},
   "outputs": [],
   "source": [
    "import cv2\n",
    "\n",
    "from scipy.spatial.distance import cdist"
   ]
  },
  {
   "cell_type": "code",
   "execution_count": 9,
   "metadata": {},
   "outputs": [],
   "source": [
    "def compute_edges_img(img):\n",
    "    edge_lower_tresh = 50\n",
    "    edge_upper_tresh = 200\n",
    "    running_img = img.copy()\n",
    "    running_img *= 255\n",
    "    running_img = running_img.astype(np.uint8)\n",
    "    edges = cv2.Canny(running_img, edge_lower_tresh, edge_upper_tresh)\n",
    "    return edges"
   ]
  },
  {
   "cell_type": "code",
   "execution_count": 14,
   "metadata": {},
   "outputs": [],
   "source": [
    "x, y = np.meshgrid(np.linspace(-1, 1, 128), np.linspace(-1, 1, 128))\n",
    "sdf = Diamond((0.5, 0.2)).rotate(0.3).eval_sdf(x, y)\n",
    "img = sdf < 0\n",
    "plot_sdf(img, sdf)"
   ]
  },
  {
   "cell_type": "code",
   "execution_count": 16,
   "metadata": {},
   "outputs": [],
   "source": [
    "edges = compute_edges_img(img.astype(int))"
   ]
  },
  {
   "cell_type": "code",
   "execution_count": 27,
   "metadata": {},
   "outputs": [],
   "source": [
    "edges_pixels = np.array(np.where(edges == 255)).T\n",
    "n_edges_pixels = edges_pixels.shape[0]"
   ]
  },
  {
   "cell_type": "code",
   "execution_count": 59,
   "metadata": {},
   "outputs": [],
   "source": [
    "from scipy.spatial import ConvexHull"
   ]
  },
  {
   "cell_type": "code",
   "execution_count": 61,
   "metadata": {},
   "outputs": [
    {
     "data": {
      "text/plain": [
       "(array([51, 51, 51, 51, 51, 51, 51, 52, 52, 52, 52, 52, 52, 52, 52, 52, 52,\n",
       "        52, 52, 52, 52, 53, 53, 53, 53, 53, 53, 53, 53, 53, 53, 53, 53, 53,\n",
       "        53, 53, 54, 54, 54, 55, 55, 55, 56, 56, 56, 56, 57, 57, 57, 57, 58,\n",
       "        58, 58, 58, 59, 59, 59, 59, 60, 60, 60, 60, 61, 61, 61, 61, 62, 62,\n",
       "        62, 62, 63, 63, 63, 63, 64, 64, 64, 64, 65, 65, 65, 65, 66, 66, 66,\n",
       "        66, 67, 67, 67, 67, 68, 68, 68, 68, 69, 69, 69, 69, 70, 70, 70, 70,\n",
       "        71, 71, 71, 71, 72, 72, 72, 73, 73, 73, 73, 73, 73, 73, 73, 73, 73,\n",
       "        73, 73, 73, 73, 74, 74, 74, 74, 74, 74, 74, 74, 74, 74, 74, 74, 74,\n",
       "        74, 75, 75, 75, 75, 75, 75, 75, 75, 75, 75, 75], dtype=int64),\n",
       " array([61, 62, 63, 64, 65, 66, 67, 49, 50, 51, 52, 53, 54, 55, 56, 57, 58,\n",
       "        59, 60, 68, 69, 36, 37, 38, 39, 40, 41, 42, 43, 44, 45, 46, 47, 48,\n",
       "        69, 70, 35, 70, 71, 35, 71, 72, 35, 36, 72, 73, 36, 37, 74, 75, 37,\n",
       "        38, 75, 76, 39, 40, 76, 77, 40, 41, 77, 78, 41, 42, 79, 80, 42, 43,\n",
       "        80, 81, 44, 45, 81, 82, 45, 46, 82, 83, 46, 47, 84, 85, 47, 48, 85,\n",
       "        86, 49, 50, 86, 87, 50, 51, 87, 88, 51, 52, 89, 90, 52, 53, 90, 91,\n",
       "        54, 55, 91, 92, 55, 56, 92, 56, 57, 81, 82, 83, 84, 85, 86, 87, 88,\n",
       "        89, 90, 91, 92, 57, 58, 69, 70, 71, 72, 73, 74, 75, 76, 77, 78, 79,\n",
       "        80, 58, 59, 60, 61, 62, 63, 64, 65, 66, 67, 68], dtype=int64))"
      ]
     },
     "execution_count": 61,
     "metadata": {},
     "output_type": "execute_result"
    }
   ],
   "source": [
    "edges_pixels[:, 0], edges_pixels[:, 1]"
   ]
  },
  {
   "cell_type": "code",
   "execution_count": 67,
   "metadata": {},
   "outputs": [],
   "source": [
    "ch = ConvexHull(edges_pixels)\n",
    "plt.plot(edges_pixels[:,0], edges_pixels[:,1], 'o')\n",
    "# for simplex in ch.simplices:\n",
    "#     plt.plot(edges_pixels[simplex, 0], edges_pixels[simplex, 1], 'k-')\n",
    "plt.show()"
   ]
  },
  {
   "cell_type": "code",
   "execution_count": 65,
   "metadata": {},
   "outputs": [
    {
     "data": {
      "text/plain": [
       "array([[122, 105],\n",
       "       [ 21,   0],\n",
       "       [ 21,  36],\n",
       "       [ 50, 137],\n",
       "       [  6,   0],\n",
       "       [  6,  20],\n",
       "       [ 97, 105],\n",
       "       [ 97,  20],\n",
       "       [147, 137],\n",
       "       [147, 122],\n",
       "       [ 42,  36],\n",
       "       [ 42,  50]], dtype=int32)"
      ]
     },
     "execution_count": 65,
     "metadata": {},
     "output_type": "execute_result"
    }
   ],
   "source": [
    "ch.simplices"
   ]
  },
  {
   "cell_type": "code",
   "execution_count": 35,
   "metadata": {},
   "outputs": [],
   "source": [
    "dist_mat = cdist(edges_pixels, edges_pixels)"
   ]
  },
  {
   "cell_type": "code",
   "execution_count": 51,
   "metadata": {},
   "outputs": [],
   "source": [
    "closest_pixels_idx = np.argsort(dist_mat, axis=1)[:, 1:10]"
   ]
  },
  {
   "cell_type": "code",
   "execution_count": 53,
   "metadata": {},
   "outputs": [],
   "source": [
    "dd = edges_pixels[closest_pixels_idx, :]"
   ]
  },
  {
   "cell_type": "code",
   "execution_count": 54,
   "metadata": {},
   "outputs": [
    {
     "data": {
      "text/plain": [
       "(148, 9, 2)"
      ]
     },
     "execution_count": 54,
     "metadata": {},
     "output_type": "execute_result"
    }
   ],
   "source": [
    "dd.shape"
   ]
  },
  {
   "cell_type": "code",
   "execution_count": 58,
   "metadata": {},
   "outputs": [
    {
     "name": "stderr",
     "output_type": "stream",
     "text": [
      "<ipython-input-58-7934abdabb29>:1: RankWarning: Polyfit may be poorly conditioned\n",
      "  m = [np.polyfit(ddx[:, 0], ddx[:, 1], 1)[0] for ddx in dd]\n",
      "<ipython-input-58-7934abdabb29>:1: RankWarning: Polyfit may be poorly conditioned\n",
      "  m = [np.polyfit(ddx[:, 0], ddx[:, 1], 1)[0] for ddx in dd]\n",
      "<ipython-input-58-7934abdabb29>:1: RankWarning: Polyfit may be poorly conditioned\n",
      "  m = [np.polyfit(ddx[:, 0], ddx[:, 1], 1)[0] for ddx in dd]\n",
      "<ipython-input-58-7934abdabb29>:1: RankWarning: Polyfit may be poorly conditioned\n",
      "  m = [np.polyfit(ddx[:, 0], ddx[:, 1], 1)[0] for ddx in dd]\n",
      "<ipython-input-58-7934abdabb29>:1: RankWarning: Polyfit may be poorly conditioned\n",
      "  m = [np.polyfit(ddx[:, 0], ddx[:, 1], 1)[0] for ddx in dd]\n",
      "<ipython-input-58-7934abdabb29>:1: RankWarning: Polyfit may be poorly conditioned\n",
      "  m = [np.polyfit(ddx[:, 0], ddx[:, 1], 1)[0] for ddx in dd]\n",
      "<ipython-input-58-7934abdabb29>:1: RankWarning: Polyfit may be poorly conditioned\n",
      "  m = [np.polyfit(ddx[:, 0], ddx[:, 1], 1)[0] for ddx in dd]\n",
      "<ipython-input-58-7934abdabb29>:1: RankWarning: Polyfit may be poorly conditioned\n",
      "  m = [np.polyfit(ddx[:, 0], ddx[:, 1], 1)[0] for ddx in dd]\n",
      "<ipython-input-58-7934abdabb29>:1: RankWarning: Polyfit may be poorly conditioned\n",
      "  m = [np.polyfit(ddx[:, 0], ddx[:, 1], 1)[0] for ddx in dd]\n",
      "<ipython-input-58-7934abdabb29>:1: RankWarning: Polyfit may be poorly conditioned\n",
      "  m = [np.polyfit(ddx[:, 0], ddx[:, 1], 1)[0] for ddx in dd]\n",
      "<ipython-input-58-7934abdabb29>:1: RankWarning: Polyfit may be poorly conditioned\n",
      "  m = [np.polyfit(ddx[:, 0], ddx[:, 1], 1)[0] for ddx in dd]\n",
      "<ipython-input-58-7934abdabb29>:1: RankWarning: Polyfit may be poorly conditioned\n",
      "  m = [np.polyfit(ddx[:, 0], ddx[:, 1], 1)[0] for ddx in dd]\n",
      "<ipython-input-58-7934abdabb29>:1: RankWarning: Polyfit may be poorly conditioned\n",
      "  m = [np.polyfit(ddx[:, 0], ddx[:, 1], 1)[0] for ddx in dd]\n",
      "<ipython-input-58-7934abdabb29>:1: RankWarning: Polyfit may be poorly conditioned\n",
      "  m = [np.polyfit(ddx[:, 0], ddx[:, 1], 1)[0] for ddx in dd]\n",
      "<ipython-input-58-7934abdabb29>:1: RankWarning: Polyfit may be poorly conditioned\n",
      "  m = [np.polyfit(ddx[:, 0], ddx[:, 1], 1)[0] for ddx in dd]\n"
     ]
    },
    {
     "data": {
      "text/plain": [
       "[-5.500000000000094,\n",
       " -5.3333333333333215,\n",
       " -1.8333333333333253,\n",
       " 1.6666666666666834,\n",
       " 3.13157894736842,\n",
       " 2.8333333333333384,\n",
       " 2.099999999999994,\n",
       " -5.4999999999999165,\n",
       " -5.333333333333285,\n",
       " -5.214285714285597,\n",
       " -5.124999999999907,\n",
       " 0.5149572649572651,\n",
       " 0.5245726495726497,\n",
       " 0.5341880341880343,\n",
       " 0.5331196581196583,\n",
       " -5.124999999999776,\n",
       " -5.2142857142857135,\n",
       " -5.3333333333333455,\n",
       " -5.500000000000085,\n",
       " 1.7131147540983613,\n",
       " 1.3703703703703656,\n",
       " -0.7967032967032994,\n",
       " -0.5989010989011015,\n",
       " -1.4333333333333387,\n",
       " -1.4189189189189226,\n",
       " -1.333333333333336,\n",
       " 0.3920335429769393,\n",
       " 0.4014675052410903,\n",
       " 0.41090146750524126,\n",
       " 0.4098532494758911,\n",
       " -5.125000000000077,\n",
       " -5.214285714285662,\n",
       " -5.333333333333434,\n",
       " -5.500000000000005,\n",
       " 1.2,\n",
       " 1.014999999999999,\n",
       " -0.38695652173913,\n",
       " 1.0000000000000002,\n",
       " 1.0000000000000002,\n",
       " -0.05281690140845115,\n",
       " 1.0150000000000008,\n",
       " 1.2000000000000044,\n",
       " 0.24999999999999864,\n",
       " 0.23958333333333248,\n",
       " 1.1550000000000002,\n",
       " 1.2999999999999976,\n",
       " 0.5739436619718317,\n",
       " 0.9553571428571447,\n",
       " 1.3000000000000007,\n",
       " 1.1549999999999987,\n",
       " 1.1550000000000031,\n",
       " 1.300000000000003,\n",
       " 1.2,\n",
       " 1.1250000000000007,\n",
       " 1.299999999999998,\n",
       " 1.1549999999999991,\n",
       " 1.1249999999999991,\n",
       " 1.2000000000000026,\n",
       " 1.199999999999994,\n",
       " 1.1250000000000029,\n",
       " 1.1549999999999971,\n",
       " 1.300000000000001,\n",
       " 1.1250000000000022,\n",
       " 1.1999999999999997,\n",
       " 1.2999999999999994,\n",
       " 1.155,\n",
       " 1.1549999999999991,\n",
       " 1.2999999999999992,\n",
       " 1.2000000000000026,\n",
       " 1.1250000000000002,\n",
       " 1.3000000000000043,\n",
       " 1.1550000000000034,\n",
       " 1.1249999999999996,\n",
       " 1.2,\n",
       " 1.2000000000000002,\n",
       " 1.1249999999999996,\n",
       " 1.1549999999999974,\n",
       " 1.3000000000000023,\n",
       " 1.125000000000002,\n",
       " 1.1999999999999962,\n",
       " 1.300000000000001,\n",
       " 1.1550000000000014,\n",
       " 1.1549999999999991,\n",
       " 1.300000000000002,\n",
       " 1.2000000000000057,\n",
       " 1.124999999999998,\n",
       " 1.2999999999999998,\n",
       " 1.1549999999999996,\n",
       " 1.1249999999999978,\n",
       " 1.2000000000000002,\n",
       " 1.2000000000000006,\n",
       " 1.1250000000000016,\n",
       " 1.1550000000000018,\n",
       " 1.3000000000000003,\n",
       " 1.1249999999999998,\n",
       " 1.200000000000002,\n",
       " 1.3000000000000016,\n",
       " 1.154999999999999,\n",
       " 1.155,\n",
       " 1.300000000000001,\n",
       " 0.29487179487179266,\n",
       " 0.39175257731958696,\n",
       " 1.300000000000003,\n",
       " 1.1549999999999998,\n",
       " 0.05494505494505687,\n",
       " 0.08241758241758372,\n",
       " 1.1999999999999977,\n",
       " 1.014999999999998,\n",
       " 0.016483516483521227,\n",
       " 0.9999999999999986,\n",
       " 1.0731707317073236,\n",
       " -5.500000000000246,\n",
       " -5.333333333333297,\n",
       " -5.214285714285646,\n",
       " -5.125000000000161,\n",
       " 0.5859969558599697,\n",
       " -0.7500000000000043,\n",
       " -0.9999999999999996,\n",
       " -1.119565217391306,\n",
       " -0.6000000000000033,\n",
       " -0.5714285714285728,\n",
       " -0.3606557377049226,\n",
       " -0.4508196721311526,\n",
       " 1.092592592592589,\n",
       " 1.3524590163934347,\n",
       " -5.499999999999945,\n",
       " -5.33333333333343,\n",
       " -5.214285714285607,\n",
       " -5.124999999999963,\n",
       " 0.4969969969969971,\n",
       " 0.49624624624624647,\n",
       " 0.5030030030030033,\n",
       " 0.50975975975976,\n",
       " -5.125000000000073,\n",
       " -5.214285714285703,\n",
       " -5.333333333333424,\n",
       " -5.5000000000000835,\n",
       " 1.6999999999999982,\n",
       " 2.2777777777777772,\n",
       " 2.4999999999999543,\n",
       " 4.071428571428564,\n",
       " 3.9999999999999734,\n",
       " 0.42370370370370386,\n",
       " 0.42296296296296304,\n",
       " -5.125000000000029,\n",
       " -5.214285714285759,\n",
       " -5.333333333333333,\n",
       " -5.500000000000066]"
      ]
     },
     "execution_count": 58,
     "metadata": {},
     "output_type": "execute_result"
    }
   ],
   "source": [
    "m = [np.polyfit(ddx[:, 0], ddx[:, 1], 1)[0] for ddx in dd]\n",
    "m"
   ]
  },
  {
   "cell_type": "code",
   "execution_count": 50,
   "metadata": {},
   "outputs": [
    {
     "name": "stdout",
     "output_type": "stream",
     "text": [
      "0.0 0.7853981633974483\n",
      "0.0 0.0\n",
      "0.0 0.0\n",
      "0.0 0.0\n",
      "0.0 0.0\n",
      "0.0 0.0\n",
      "0.0 0.7853981633974483\n",
      "0.0 0.7853981633974483\n",
      "0.0 0.0\n",
      "0.0 0.0\n",
      "0.0 0.0\n",
      "0.0 0.0\n",
      "0.0 0.0\n",
      "0.0 0.0\n",
      "0.0 0.0\n",
      "0.0 0.0\n",
      "0.0 0.0\n",
      "0.0 0.0\n",
      "0.0 0.7853981633974483\n",
      "0.0 0.7853981633974483\n",
      "0.0 1.5707963267948966\n",
      "0.0 0.7853981633974483\n",
      "0.0 0.0\n",
      "0.0 0.0\n",
      "0.0 0.0\n",
      "0.0 0.0\n",
      "0.0 0.0\n",
      "0.0 0.0\n",
      "0.0 0.0\n",
      "0.0 0.0\n",
      "0.0 0.0\n",
      "0.0 0.0\n",
      "0.0 0.0\n",
      "0.0 0.7853981633974483\n",
      "1.5707963267948966 0.0\n",
      "0.0 1.5707963267948966\n",
      "1.5707963267948966 0.7853981633974483\n",
      "1.5707963267948966 0.0\n",
      "1.5707963267948966 0.0\n",
      "1.5707963267948966 1.5707963267948966\n",
      "0.0 1.5707963267948966\n",
      "0.0 1.5707963267948966\n",
      "1.5707963267948966 0.0\n",
      "0.0 1.5707963267948966\n",
      "1.5707963267948966 0.0\n",
      "0.0 0.7853981633974483\n",
      "0.0 1.5707963267948966\n",
      "1.5707963267948966 0.0\n",
      "0.0 0.7853981633974483\n",
      "0.0 1.5707963267948966\n",
      "0.0 1.5707963267948966\n",
      "0.0 0.7853981633974483\n",
      "0.0 1.5707963267948966\n",
      "1.5707963267948966 0.0\n",
      "0.0 0.7853981633974483\n",
      "1.5707963267948966 0.0\n",
      "1.5707963267948966 0.0\n",
      "1.5707963267948966 0.0\n",
      "1.5707963267948966 0.0\n",
      "1.5707963267948966 0.0\n",
      "1.5707963267948966 0.0\n",
      "0.0 0.7853981633974483\n",
      "1.5707963267948966 0.0\n",
      "0.0 1.5707963267948966\n",
      "0.0 0.7853981633974483\n",
      "1.5707963267948966 0.0\n",
      "1.5707963267948966 0.0\n",
      "0.0 0.7853981633974483\n",
      "1.5707963267948966 0.0\n",
      "0.0 1.5707963267948966\n",
      "0.0 0.7853981633974483\n",
      "0.0 1.5707963267948966\n",
      "0.0 1.5707963267948966\n",
      "0.0 1.5707963267948966\n",
      "0.0 1.5707963267948966\n",
      "1.5707963267948966 0.0\n",
      "1.5707963267948966 0.0\n",
      "0.0 0.7853981633974483\n",
      "0.0 1.5707963267948966\n",
      "1.5707963267948966 0.0\n",
      "0.0 0.7853981633974483\n",
      "0.0 1.5707963267948966\n",
      "1.5707963267948966 0.0\n",
      "0.0 0.7853981633974483\n",
      "1.5707963267948966 0.0\n",
      "0.0 1.5707963267948966\n",
      "0.0 0.7853981633974483\n",
      "0.0 1.5707963267948966\n",
      "1.5707963267948966 0.0\n",
      "0.0 1.5707963267948966\n",
      "1.5707963267948966 0.0\n",
      "1.5707963267948966 0.0\n",
      "1.5707963267948966 0.0\n",
      "0.0 0.7853981633974483\n",
      "1.5707963267948966 0.0\n",
      "1.5707963267948966 0.0\n",
      "0.0 0.7853981633974483\n",
      "1.5707963267948966 0.0\n",
      "1.5707963267948966 0.0\n",
      "0.0 0.7853981633974483\n",
      "0.0 1.5707963267948966\n",
      "0.0 1.5707963267948966\n",
      "0.0 0.7853981633974483\n",
      "1.5707963267948966 0.0\n",
      "0.0 1.5707963267948966\n",
      "0.0 1.5707963267948966\n",
      "0.0 1.5707963267948966\n",
      "1.5707963267948966 0.0\n",
      "1.5707963267948966 1.5707963267948966\n",
      "1.5707963267948966 0.0\n",
      "1.5707963267948966 0.0\n",
      "0.0 0.7853981633974483\n",
      "0.0 0.0\n",
      "0.0 0.0\n",
      "0.0 0.0\n",
      "0.0 0.0\n",
      "0.0 0.0\n",
      "0.0 0.0\n",
      "0.0 0.0\n",
      "0.0 0.0\n",
      "0.0 0.0\n",
      "0.0 0.0\n",
      "1.5707963267948966 0.0\n",
      "0.0 1.5707963267948966\n",
      "1.5707963267948966 0.0\n",
      "0.0 0.7853981633974483\n",
      "0.0 0.0\n",
      "0.0 0.0\n",
      "0.0 0.0\n",
      "0.0 0.0\n",
      "0.0 0.0\n",
      "0.0 0.0\n",
      "0.0 0.0\n",
      "0.0 0.0\n",
      "0.0 0.0\n",
      "0.0 0.0\n",
      "0.0 0.7853981633974483\n",
      "1.5707963267948966 0.0\n",
      "0.0 0.0\n",
      "0.0 0.0\n",
      "0.0 0.0\n",
      "0.0 0.0\n",
      "0.0 0.0\n",
      "0.0 0.0\n",
      "0.0 0.0\n",
      "0.0 0.0\n",
      "0.0 0.0\n",
      "0.0 0.7853981633974483\n"
     ]
    },
    {
     "name": "stderr",
     "output_type": "stream",
     "text": [
      "<ipython-input-50-1bfe57f2cfbf>:7: RuntimeWarning: divide by zero encountered in longlong_scalars\n",
      "  th2 = np.arctan(abs(x_2[0] - x[0])/abs(x_2[1] - x[1]))\n",
      "<ipython-input-50-1bfe57f2cfbf>:6: RuntimeWarning: divide by zero encountered in longlong_scalars\n",
      "  th1 = np.arctan(abs(x_1[0] - x[0])/abs(x_1[1] - x[1]))\n"
     ]
    }
   ],
   "source": [
    "plt.contourf(img)\n",
    "for i in range(n_edges_pixels):\n",
    "    x_1 = edges_pixels[closest_pixels_idx[i, 0]]\n",
    "    x   = edges_pixels[i, :]\n",
    "    x_2 = edges_pixels[closest_pixels_idx[i, 1]]\n",
    "    costh = \n",
    "    th1 = np.arctan(abs(x_1[0] - x[0])/abs(x_1[1] - x[1]))\n",
    "    th2 = np.arctan(abs(x_2[0] - x[0])/abs(x_2[1] - x[1]))\n",
    "    print(th1, th2)\n",
    "#    plt.plot([x_1[1], x[1], x_2[1]], [x_1[0], x[0], x_2[0]])\n",
    "#plt.show()"
   ]
  },
  {
   "cell_type": "code",
   "execution_count": null,
   "metadata": {},
   "outputs": [],
   "source": []
  }
 ],
 "metadata": {
  "kernelspec": {
   "display_name": "Python 3",
   "language": "python",
   "name": "python3"
  },
  "language_info": {
   "codemirror_mode": {
    "name": "ipython",
    "version": 3
   },
   "file_extension": ".py",
   "mimetype": "text/x-python",
   "name": "python",
   "nbconvert_exporter": "python",
   "pygments_lexer": "ipython3",
   "version": "3.8.5"
  }
 },
 "nbformat": 4,
 "nbformat_minor": 4
}
